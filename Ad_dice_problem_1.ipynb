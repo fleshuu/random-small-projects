{
 "cells": [
  {
   "cell_type": "code",
   "execution_count": 2,
   "id": "21de98f4",
   "metadata": {},
   "outputs": [],
   "source": [
    "# ug ni ehnii dasgalyg dotood untsug ashiglaad, zuw polygon uusgej bna uu shalgaj bolno\n",
    "# tegehdee jaahan math ni yadargaatai, dotood untsug ni nileen l butarhai too garah bh\n",
    "# \n",
    "# Tseg ni zuraasyn baruun/zuun, geh yum uu dotor/gadna ch geh yum uu\n",
    "# ali tald ni baigaag olj chadwal 2 daalgawar hamtdaa shiidegdeh bolomjtoi l yum bna\n",
    "# +dotor gadna gesen oilgolttoi baihyn tuld 1 tsegeed nuguu ruu gesen chiglelee uzeg\n",
    "# salgalgui zurj baigaagaar tusuulj boloh yum\n",
    "\n",
    "# aaa, polygon ni gadagshaad, butsad dotogshilson ch zuw durs uusej boloh bsng martsan bjee,\n",
    "# tegehdee 2 doh asuultiig bol tegej shiideh bolomj bsaar l bna"
   ]
  },
  {
   "cell_type": "code",
   "execution_count": 2,
   "id": "a4734a3b",
   "metadata": {},
   "outputs": [],
   "source": [
    "def find_slope(x1,y1,x2,y2): # of 2 points\n",
    "    if x2-x1 == 0:\n",
    "        #mby throw exception\n",
    "        return 1\n",
    "    \n",
    "    slope = (y2-y1) / (x2-x1)\n",
    "    return slope"
   ]
  },
  {
   "cell_type": "code",
   "execution_count": 8,
   "id": "b9c8e549",
   "metadata": {},
   "outputs": [],
   "source": [
    "# zuraas deer orshij baiwal inside gej tootsoh yostoi bh\n",
    "POINT_TOP = 'top'\n",
    "POINT_BOTTOM = 'bot'\n",
    "POINT_ON_LINE = 'on line'\n",
    "def where_is_point_to_line(x1,y1,x2,y2,xt,yt): # on right of point 1,2 line\n",
    "    slope = find_slope(x1,y1,x2,y2)\n",
    "    y_onLine = slope * (xt-x1) + y1\n",
    "    \n",
    "    if yt - y_onLine > 0:\n",
    "        return POINT_TOP\n",
    "    elif yt - y_onLine < 0:\n",
    "        return POINT_BOTTOM\n",
    "    else:\n",
    "        return POINT_ON_LINE\n",
    "# 2-r daalgawar, ugsun tseg maani ali 1 talyn yag deer ni baiwal inside gej awah heregtei\n",
    "# tegehdee float deer uildluud hiigdeh bolohoor jaahan ewgui l yum"
   ]
  },
  {
   "cell_type": "code",
   "execution_count": 9,
   "id": "747f1364",
   "metadata": {},
   "outputs": [
    {
     "data": {
      "text/plain": [
       "'bot'"
      ]
     },
     "execution_count": 9,
     "metadata": {},
     "output_type": "execute_result"
    }
   ],
   "source": [
    "where_is_point_to_line(1,1,3,3,4,3)"
   ]
  },
  {
   "cell_type": "code",
   "execution_count": 14,
   "id": "c5d518bd",
   "metadata": {},
   "outputs": [],
   "source": [
    "# magadgui angle-aa l oliyo doo, buh zuraastai shalgaj bsnaas\n",
    "# https://stackoverflow.com/questions/1211212/how-to-calculate-an-angle-from-three-points\n",
    "\n",
    "# angle hamaagui yum bnaa, ehelsen tseg deeree zuw irj bna uu l shalgah bolomj uguh yum shig bn"
   ]
  },
  {
   "cell_type": "code",
   "execution_count": 10,
   "id": "2a0ced6b",
   "metadata": {},
   "outputs": [],
   "source": [
    "# googledeheer shiidew, tsag oirtson"
   ]
  },
  {
   "cell_type": "code",
   "execution_count": 11,
   "id": "578ee634",
   "metadata": {},
   "outputs": [],
   "source": [
    "def find_b(x,y,slope):\n",
    "    b = y - slope * x\n",
    "    return b"
   ]
  },
  {
   "cell_type": "code",
   "execution_count": 36,
   "id": "06a40f59",
   "metadata": {},
   "outputs": [],
   "source": [
    "def is_two_lines_intersect(x1,y1,x2,y2,x3,y3,x4,y4):\n",
    "    slope1 = find_slope(x1,y1,x2,y2)\n",
    "    slope2 = find_slope(x3,y3,x4,y4)\n",
    "    \n",
    "    if (slope1 == slope2):\n",
    "        return False\n",
    "    b1 = find_b(x1,y1,slope1)\n",
    "    b2 = find_b(x3,y3,slope2)\n",
    "    \n",
    "    intersecting_x = (b2 - b1) / (slope1 - slope2)\n",
    "    \n",
    "    if ( (intersecting_x < max( min(x1,x2), min(x3,x4) )) or\n",
    "        (intersecting_x > min( max(x1,x2), max(x3,x4) )) ):\n",
    "        return False  # intersection is out of bound\n",
    "    else:\n",
    "        return True"
   ]
  },
  {
   "cell_type": "code",
   "execution_count": 14,
   "id": "6f396979",
   "metadata": {},
   "outputs": [],
   "source": [
    "test_data = [[2,1],[1,3],[3,5],[2,6],[5,6],[3,4],[5,3]]"
   ]
  },
  {
   "cell_type": "code",
   "execution_count": 38,
   "id": "25c4fbfc",
   "metadata": {},
   "outputs": [],
   "source": [
    "def solving_question_1(points_array):\n",
    "    lines = []\n",
    "    for idx, point in enumerate(points_array):\n",
    "        next_idx = idx + 1\n",
    "        if next_idx == len(points_array):\n",
    "            next_point = points_array[0]\n",
    "        else:\n",
    "            next_point = points_array[next_idx]\n",
    "        lines+= [[ point, next_point ]]\n",
    "    #print('Lines: --',lines)\n",
    "    for i in range(len(lines)):\n",
    "        for j in range(i+2,len(lines)):\n",
    "            #print(i,j)\n",
    "            point1 = lines[i][0]\n",
    "            point2 = lines[i][1]\n",
    "            point3 = lines[j][0]\n",
    "            point4 = lines[j][1]\n",
    "            x1, y1, x2, y2 = point1[0], point1[1], point2[0], point2[1]\n",
    "            x3, y3, x4, y4 = point3[0], point3[1], point4[0], point4[1]\n",
    "            if is_two_lines_intersect(x1,y1,x2,y2,x3,y3,x4,y4):\n",
    "                print(x1,y1,x2,y2,x3,y3,x4,y4)\n",
    "                return True\n",
    "            \n",
    "    return False"
   ]
  },
  {
   "cell_type": "code",
   "execution_count": 35,
   "id": "2c99ccb6",
   "metadata": {},
   "outputs": [
    {
     "ename": "NameError",
     "evalue": "name 'X1' is not defined",
     "output_type": "error",
     "traceback": [
      "\u001b[1;31m---------------------------------------------------------------------------\u001b[0m",
      "\u001b[1;31mNameError\u001b[0m                                 Traceback (most recent call last)",
      "\u001b[1;32m<ipython-input-35-1b161972df9f>\u001b[0m in \u001b[0;36m<module>\u001b[1;34m\u001b[0m\n\u001b[1;32m----> 1\u001b[1;33m \u001b[0msolving_question_1\u001b[0m\u001b[1;33m(\u001b[0m\u001b[0mtest_data\u001b[0m\u001b[1;33m)\u001b[0m\u001b[1;33m\u001b[0m\u001b[1;33m\u001b[0m\u001b[0m\n\u001b[0m",
      "\u001b[1;32m<ipython-input-34-4df3b3eb4abe>\u001b[0m in \u001b[0;36msolving_question_1\u001b[1;34m(points_array)\u001b[0m\n\u001b[0;32m     18\u001b[0m             \u001b[0mx1\u001b[0m\u001b[1;33m,\u001b[0m \u001b[0my1\u001b[0m\u001b[1;33m,\u001b[0m \u001b[0mx2\u001b[0m\u001b[1;33m,\u001b[0m \u001b[0my2\u001b[0m \u001b[1;33m=\u001b[0m \u001b[0mpoint1\u001b[0m\u001b[1;33m[\u001b[0m\u001b[1;36m0\u001b[0m\u001b[1;33m]\u001b[0m\u001b[1;33m,\u001b[0m \u001b[0mpoint1\u001b[0m\u001b[1;33m[\u001b[0m\u001b[1;36m1\u001b[0m\u001b[1;33m]\u001b[0m\u001b[1;33m,\u001b[0m \u001b[0mpoint2\u001b[0m\u001b[1;33m[\u001b[0m\u001b[1;36m0\u001b[0m\u001b[1;33m]\u001b[0m\u001b[1;33m,\u001b[0m \u001b[0mpoint2\u001b[0m\u001b[1;33m[\u001b[0m\u001b[1;36m1\u001b[0m\u001b[1;33m]\u001b[0m\u001b[1;33m\u001b[0m\u001b[1;33m\u001b[0m\u001b[0m\n\u001b[0;32m     19\u001b[0m             \u001b[0mx3\u001b[0m\u001b[1;33m,\u001b[0m \u001b[0my3\u001b[0m\u001b[1;33m,\u001b[0m \u001b[0mx4\u001b[0m\u001b[1;33m,\u001b[0m \u001b[0my4\u001b[0m \u001b[1;33m=\u001b[0m \u001b[0mpoint3\u001b[0m\u001b[1;33m[\u001b[0m\u001b[1;36m0\u001b[0m\u001b[1;33m]\u001b[0m\u001b[1;33m,\u001b[0m \u001b[0mpoint3\u001b[0m\u001b[1;33m[\u001b[0m\u001b[1;36m1\u001b[0m\u001b[1;33m]\u001b[0m\u001b[1;33m,\u001b[0m \u001b[0mpoint4\u001b[0m\u001b[1;33m[\u001b[0m\u001b[1;36m0\u001b[0m\u001b[1;33m]\u001b[0m\u001b[1;33m,\u001b[0m \u001b[0mpoint4\u001b[0m\u001b[1;33m[\u001b[0m\u001b[1;36m1\u001b[0m\u001b[1;33m]\u001b[0m\u001b[1;33m\u001b[0m\u001b[1;33m\u001b[0m\u001b[0m\n\u001b[1;32m---> 20\u001b[1;33m             \u001b[1;32mif\u001b[0m \u001b[0mis_two_lines_intersect\u001b[0m\u001b[1;33m(\u001b[0m\u001b[0mx1\u001b[0m\u001b[1;33m,\u001b[0m\u001b[0my1\u001b[0m\u001b[1;33m,\u001b[0m\u001b[0mx2\u001b[0m\u001b[1;33m,\u001b[0m\u001b[0my2\u001b[0m\u001b[1;33m,\u001b[0m\u001b[0mx3\u001b[0m\u001b[1;33m,\u001b[0m\u001b[0my3\u001b[0m\u001b[1;33m,\u001b[0m\u001b[0mx4\u001b[0m\u001b[1;33m,\u001b[0m\u001b[0my4\u001b[0m\u001b[1;33m)\u001b[0m\u001b[1;33m:\u001b[0m\u001b[1;33m\u001b[0m\u001b[1;33m\u001b[0m\u001b[0m\n\u001b[0m\u001b[0;32m     21\u001b[0m                 \u001b[1;32mreturn\u001b[0m \u001b[1;32mTrue\u001b[0m\u001b[1;33m\u001b[0m\u001b[1;33m\u001b[0m\u001b[0m\n\u001b[0;32m     22\u001b[0m \u001b[1;33m\u001b[0m\u001b[0m\n",
      "\u001b[1;32m<ipython-input-33-67974dd4680f>\u001b[0m in \u001b[0;36mis_two_lines_intersect\u001b[1;34m(x1, y1, x2, y2, x3, y3, x4, y4)\u001b[0m\n\u001b[0;32m     10\u001b[0m     \u001b[0mintersecting_x\u001b[0m \u001b[1;33m=\u001b[0m \u001b[1;33m(\u001b[0m\u001b[0mb2\u001b[0m \u001b[1;33m-\u001b[0m \u001b[0mb1\u001b[0m\u001b[1;33m)\u001b[0m \u001b[1;33m/\u001b[0m \u001b[1;33m(\u001b[0m\u001b[0mslope1\u001b[0m \u001b[1;33m-\u001b[0m \u001b[0mslope2\u001b[0m\u001b[1;33m)\u001b[0m\u001b[1;33m\u001b[0m\u001b[1;33m\u001b[0m\u001b[0m\n\u001b[0;32m     11\u001b[0m \u001b[1;33m\u001b[0m\u001b[0m\n\u001b[1;32m---> 12\u001b[1;33m     if ( (intersecting_x < max( min(X1,X2), min(X3,X4) )) or\n\u001b[0m\u001b[0;32m     13\u001b[0m         (intersecting_x > min( max(X1,X2), max(X3,X4) )) ):\n\u001b[0;32m     14\u001b[0m         \u001b[1;32mreturn\u001b[0m \u001b[1;32mFalse\u001b[0m  \u001b[1;31m# intersection is out of bound\u001b[0m\u001b[1;33m\u001b[0m\u001b[1;33m\u001b[0m\u001b[0m\n",
      "\u001b[1;31mNameError\u001b[0m: name 'X1' is not defined"
     ]
    }
   ],
   "source": [
    "solving_question_1(test_data)"
   ]
  },
  {
   "cell_type": "code",
   "execution_count": 39,
   "id": "e45095ac",
   "metadata": {},
   "outputs": [
    {
     "name": "stdout",
     "output_type": "stream",
     "text": [
      "2 1 1 3 5 3 2 1\n"
     ]
    },
    {
     "data": {
      "text/plain": [
       "True"
      ]
     },
     "execution_count": 39,
     "metadata": {},
     "output_type": "execute_result"
    }
   ],
   "source": [
    "solving_question_1(test_data)"
   ]
  },
  {
   "cell_type": "code",
   "execution_count": null,
   "id": "1019f452",
   "metadata": {},
   "outputs": [],
   "source": []
  }
 ],
 "metadata": {
  "kernelspec": {
   "display_name": "Python 3",
   "language": "python",
   "name": "python3"
  },
  "language_info": {
   "codemirror_mode": {
    "name": "ipython",
    "version": 3
   },
   "file_extension": ".py",
   "mimetype": "text/x-python",
   "name": "python",
   "nbconvert_exporter": "python",
   "pygments_lexer": "ipython3",
   "version": "3.8.8"
  }
 },
 "nbformat": 4,
 "nbformat_minor": 5
}
