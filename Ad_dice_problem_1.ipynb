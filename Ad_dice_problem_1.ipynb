{
 "cells": [
  {
   "cell_type": "code",
   "execution_count": 2,
   "id": "21de98f4",
   "metadata": {},
   "outputs": [],
   "source": [
    "# ug ni ehnii dasgalyg dotood untsug ashiglaad, zuw polygon uusgej bna uu shalgaj bolno\n",
    "# tegehdee jaahan math ni yadargaatai, dotood untsug ni nileen l butarhai too garah bh\n",
    "# \n",
    "# Tseg ni zuraasyn baruun/zuun, geh yum uu dotor/gadna ch geh yum uu\n",
    "# ali tald ni baigaag olj chadwal 2 daalgawar hamtdaa shiidegdeh bolomjtoi l yum bna\n",
    "# +dotor gadna gesen oilgolttoi baihyn tuld 1 tsegeed nuguu ruu gesen chiglelee uzeg\n",
    "# salgalgui zurj baigaagaar tusuulj boloh yum\n",
    "\n",
    "# aaa, polygon ni gadagshaad, butsad dotogshilson ch zuw durs uusej boloh bsng martsan bjee,\n",
    "# tegehdee 2 doh asuultiig bol tegej shiideh bolomj bsaar l bna"
   ]
  },
  {
   "cell_type": "code",
   "execution_count": 3,
   "id": "a4734a3b",
   "metadata": {},
   "outputs": [],
   "source": [
    "def find_slope(x1,y1,x2,y2): # of 2 points\n",
    "    slope = (y2-y1) / (x2-x1)\n",
    "    return slope"
   ]
  },
  {
   "cell_type": "code",
   "execution_count": 4,
   "id": "b9c8e549",
   "metadata": {},
   "outputs": [],
   "source": [
    "# zuraas deer orshij baiwal inside gej tootsoh yostoi bh\n",
    "def is_point_t_on_top(x1,y1,x2,y2,xt,yt): # on right of point 1,2 line\n",
    "    slope = find_slope(x1,y1,x2,y2)\n",
    "    y_onLine = slope * (xt-x1) + y1\n",
    "    \n",
    "    return yt - y_onLine > 0"
   ]
  },
  {
   "cell_type": "code",
   "execution_count": 12,
   "id": "9069d3d3",
   "metadata": {},
   "outputs": [],
   "source": [
    "# 2-r daalgawar, ugsun tseg maani ali 1 talyn yag deer ni baiwal inside gej awah heregtei\n",
    "# tegehdee float deer uildluud hiigdeh bolohoor jaahan ewgui l yum\n",
    "def is_point_t_on_line(x1,y1,x2,y2,xt,yt):\n",
    "    slope = find_slope(x1,y1,x2,y2)\n",
    "    y_onLine = slope * (xt-x1) + y1\n",
    "    \n",
    "    return yt == y_onLine "
   ]
  },
  {
   "cell_type": "code",
   "execution_count": 10,
   "id": "747f1364",
   "metadata": {},
   "outputs": [
    {
     "data": {
      "text/plain": [
       "False"
      ]
     },
     "execution_count": 10,
     "metadata": {},
     "output_type": "execute_result"
    }
   ],
   "source": [
    "is_point_t_on_top(1,1,3,3,4,4)"
   ]
  },
  {
   "cell_type": "code",
   "execution_count": 14,
   "id": "c5d518bd",
   "metadata": {},
   "outputs": [],
   "source": [
    "# magadgui angle-aa l oliyo doo, buh zuraastai shalgaj bsnaas\n",
    "# https://stackoverflow.com/questions/1211212/how-to-calculate-an-angle-from-three-points"
   ]
  },
  {
   "cell_type": "code",
   "execution_count": null,
   "id": "2a0ced6b",
   "metadata": {},
   "outputs": [],
   "source": []
  }
 ],
 "metadata": {
  "kernelspec": {
   "display_name": "Python 3",
   "language": "python",
   "name": "python3"
  },
  "language_info": {
   "codemirror_mode": {
    "name": "ipython",
    "version": 3
   },
   "file_extension": ".py",
   "mimetype": "text/x-python",
   "name": "python",
   "nbconvert_exporter": "python",
   "pygments_lexer": "ipython3",
   "version": "3.8.8"
  }
 },
 "nbformat": 4,
 "nbformat_minor": 5
}
