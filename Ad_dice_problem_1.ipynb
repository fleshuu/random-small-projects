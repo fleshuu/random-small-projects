{
 "cells": [
  {
   "cell_type": "code",
   "execution_count": 2,
   "id": "21de98f4",
   "metadata": {},
   "outputs": [],
   "source": [
    "# ug ni ehnii dasgalyg dotood untsug ashiglaad, zuw polygon uusgej bna uu shalgaj bolno\n",
    "# tegehdee jaahan math ni yadargaatai, dotood untsug ni nileen l butarhai too garah bh\n",
    "# \n",
    "# Tseg ni zuraasyn baruun/zuun, geh yum uu dotor/gadna ch geh yum uu\n",
    "# ali tald ni baigaag olj chadwal 2 daalgawar hamtdaa shiidegdeh bolomjtoi l yum bna\n",
    "# +dotor gadna gesen oilgolttoi baihyn tuld 1 tsegeed nuguu ruu gesen chiglelee uzeg\n",
    "# salgalgui zurj baigaagaar tusuulj boloh yum\n",
    "\n",
    "# aaa, polygon ni gadagshaad, butsad dotogshilson ch zuw durs uusej boloh bsng martsan bjee,\n",
    "# tegehdee 2 doh asuultiig bol tegej shiideh bolomj bsaar l bna"
   ]
  },
  {
   "cell_type": "code",
   "execution_count": 2,
   "id": "a4734a3b",
   "metadata": {},
   "outputs": [],
   "source": [
    "def find_slope(x1,y1,x2,y2): # of 2 points\n",
    "    if x2-x1 == 0:\n",
    "        #mby throw exception\n",
    "        return 1\n",
    "    \n",
    "    slope = (y2-y1) / (x2-x1)\n",
    "    return slope"
   ]
  },
  {
   "cell_type": "code",
   "execution_count": 8,
   "id": "b9c8e549",
   "metadata": {},
   "outputs": [],
   "source": [
    "# zuraas deer orshij baiwal inside gej tootsoh yostoi bh\n",
    "POINT_TOP = 'top'\n",
    "POINT_BOTTOM = 'bot'\n",
    "POINT_ON_LINE = 'on line'\n",
    "def where_is_point_to_line(x1,y1,x2,y2,xt,yt): # on right of point 1,2 line\n",
    "    slope = find_slope(x1,y1,x2,y2)\n",
    "    y_onLine = slope * (xt-x1) + y1\n",
    "    \n",
    "    if yt - y_onLine > 0:\n",
    "        return POINT_TOP\n",
    "    elif yt - y_onLine < 0:\n",
    "        return POINT_BOTTOM\n",
    "    else:\n",
    "        return POINT_ON_LINE\n",
    "# 2-r daalgawar, ugsun tseg maani ali 1 talyn yag deer ni baiwal inside gej awah heregtei\n",
    "# tegehdee float deer uildluud hiigdeh bolohoor jaahan ewgui l yum"
   ]
  },
  {
   "cell_type": "code",
   "execution_count": 9,
   "id": "747f1364",
   "metadata": {},
   "outputs": [
    {
     "data": {
      "text/plain": [
       "'bot'"
      ]
     },
     "execution_count": 9,
     "metadata": {},
     "output_type": "execute_result"
    }
   ],
   "source": [
    "where_is_point_to_line(1,1,3,3,4,3)"
   ]
  },
  {
   "cell_type": "code",
   "execution_count": 14,
   "id": "c5d518bd",
   "metadata": {},
   "outputs": [],
   "source": [
    "# magadgui angle-aa l oliyo doo, buh zuraastai shalgaj bsnaas\n",
    "# https://stackoverflow.com/questions/1211212/how-to-calculate-an-angle-from-three-points\n",
    "\n",
    "# angle hamaagui yum bnaa, ehelsen tseg deeree zuw irj bna uu l shalgah bolomj uguh yum shig bn"
   ]
  },
  {
   "cell_type": "code",
   "execution_count": 10,
   "id": "2a0ced6b",
   "metadata": {},
   "outputs": [],
   "source": [
    "# googledeheer shiidew, tsag oirtson"
   ]
  },
  {
   "cell_type": "code",
   "execution_count": 11,
   "id": "a7944ace",
   "metadata": {},
   "outputs": [],
   "source": [
    "def find_b(x,y,slope):\n",
    "    b = y - slope * x\n",
    "    return b"
   ]
  },
  {
   "cell_type": "code",
   "execution_count": 126,
   "id": "faf994a7",
   "metadata": {},
   "outputs": [],
   "source": [
    "def is_two_lines_intersected(x1,y1,x2,y2,x3,y3,x4,y4):\n",
    "    slope1 = find_slope(x1,y1,x2,y2)\n",
    "    slope2 = find_slope(x3,y3,x4,y4)\n",
    "    \n",
    "    if (slope1 == slope2):\n",
    "        return False\n",
    "    b1 = find_b(x1,y1,slope1)\n",
    "    b2 = find_b(x3,y3,slope2)\n",
    "    \n",
    "    intersecting_x = (b2 - b1) / (slope1 - slope2)\n",
    "    print('me',(b2 - b1),(slope1 - slope2),intersecting_x)\n",
    "    if ( (intersecting_x < max( min(x1,x2), min(x3,x4) )) or\n",
    "        (intersecting_x > min( max(x1,x2), max(x3,x4) )) ):\n",
    "        return False  # intersection is out of bound\n",
    "    else:\n",
    "        return True"
   ]
  },
  {
   "cell_type": "code",
   "execution_count": 85,
   "id": "470326b7",
   "metadata": {},
   "outputs": [],
   "source": [
    "test_data = [[2,1],[1,3],[3,5],[2,6],[5,6],[3,4],[5,3]]\n",
    "test_data_fail = [[2,1],[1,3],[3,5],[2,6],[5,6],[3,4],[5,3],[1,1]]"
   ]
  },
  {
   "cell_type": "code",
   "execution_count": 86,
   "id": "7db339a3",
   "metadata": {},
   "outputs": [],
   "source": [
    "def solving_question_1(points_array):\n",
    "    lines = []\n",
    "    for idx, point in enumerate(points_array):\n",
    "        next_idx = idx + 1\n",
    "        if next_idx == len(points_array):\n",
    "            next_point = points_array[0]\n",
    "        else:\n",
    "            next_point = points_array[next_idx]\n",
    "        lines+= [[ point, next_point ]]\n",
    "    #print('Lines: --',lines)\n",
    "    for i in range(len(lines)):\n",
    "        for j in range(i+2,len(lines)-1):\n",
    "            #print(i,j)\n",
    "            point1 = lines[i][0]\n",
    "            point2 = lines[i][1]\n",
    "            point3 = lines[j][0]\n",
    "            point4 = lines[j][1]\n",
    "            x1, y1, x2, y2 = point1[0], point1[1], point2[0], point2[1]\n",
    "            x3, y3, x4, y4 = point3[0], point3[1], point4[0], point4[1]\n",
    "            if is_two_lines_intersected(x1,y1,x2,y2,x3,y3,x4,y4):\n",
    "                print([x1,y1,x2,y2],[x3,y3,x4,y4])\n",
    "                return True\n",
    "            \n",
    "    return False"
   ]
  },
  {
   "cell_type": "code",
   "execution_count": 45,
   "id": "930f1ce5",
   "metadata": {},
   "outputs": [
    {
     "name": "stdout",
     "output_type": "stream",
     "text": [
      "0 2\n",
      "0 3\n",
      "0 4\n",
      "0 5\n",
      "1 3\n",
      "1 4\n",
      "1 5\n",
      "2 4\n",
      "2 5\n",
      "3 5\n"
     ]
    },
    {
     "data": {
      "text/plain": [
       "False"
      ]
     },
     "execution_count": 45,
     "metadata": {},
     "output_type": "execute_result"
    }
   ],
   "source": [
    "solving_question_1(test_data)"
   ]
  },
  {
   "cell_type": "code",
   "execution_count": 50,
   "id": "1ef55888",
   "metadata": {},
   "outputs": [
    {
     "data": {
      "text/plain": [
       "False"
      ]
     },
     "execution_count": 50,
     "metadata": {},
     "output_type": "execute_result"
    }
   ],
   "source": [
    "solving_question_1(test_data)"
   ]
  },
  {
   "cell_type": "code",
   "execution_count": 49,
   "id": "9d396cf3",
   "metadata": {},
   "outputs": [
    {
     "name": "stdout",
     "output_type": "stream",
     "text": [
      "[2, 1, 1, 3] [5, 3, 1, 1]\n"
     ]
    },
    {
     "data": {
      "text/plain": [
       "True"
      ]
     },
     "execution_count": 49,
     "metadata": {},
     "output_type": "execute_result"
    }
   ],
   "source": [
    "solving_question_1(test_data_fail)"
   ]
  },
  {
   "cell_type": "code",
   "execution_count": 128,
   "id": "32c83351",
   "metadata": {},
   "outputs": [],
   "source": [
    "# def solving_question_2(points_array, checking_point):\n",
    "#     if solving_question_1(points_array) == False:\n",
    "#         lines = []\n",
    "#         for idx, point in enumerate(points_array):\n",
    "#             next_idx = idx + 1\n",
    "#             if next_idx == len(points_array):\n",
    "#                 next_point = points_array[0]\n",
    "#             else:\n",
    "#                 next_point = points_array[next_idx]\n",
    "#             lines+= [[ point, next_point ]]\n",
    "        \n",
    "#         side = ''\n",
    "#         for line in lines:\n",
    "#             x1, y1, x2, y2 = line[0][0], line[0][1], line[1][0], line[1][1]\n",
    "#             xt, yt = checking_point[0], checking_point[1]\n",
    "#             where = where_is_point_to_line(x1,y1,x2,y2,xt,yt)\n",
    "#             if side == '':\n",
    "#                 side = where\n",
    "#             elif where == POINT_ON_LINE:\n",
    "#                 return 'point on polygon side'\n",
    "#             elif side != where:\n",
    "#                 print(side,where)\n",
    "#                 print(x1,y1,x2,y2,xt,yt)\n",
    "#                 return 'point inside polygon'\n",
    "#         return 'point outside polygon'\n",
    "#     else:\n",
    "#         return 'zuw polygon bish bna'"
   ]
  },
  {
   "cell_type": "code",
   "execution_count": 129,
   "id": "16422186",
   "metadata": {},
   "outputs": [],
   "source": [
    "def is_two_lines_intersected_on_point(x1,y1,x2,y2,x3,y3,x4,y4):\n",
    "    slope1 = find_slope(x1,y1,x2,y2)\n",
    "    slope2 = find_slope(x3,y3,x4,y4)\n",
    "    \n",
    "    if (slope1 == slope2):\n",
    "        return False\n",
    "    b1 = find_b(x1,y1,slope1)\n",
    "    b2 = find_b(x3,y3,slope2)\n",
    "    \n",
    "    intersecting_x = (b2 - b1) / (slope1 - slope2)\n",
    "    print(x1,y1,x2,y2)\n",
    "    if ( (intersecting_x < max( min(x1,x2), min(x3,x4) )) or\n",
    "        (intersecting_x > min( max(x1,x2), max(x3,x4) )) ):\n",
    "        return False  # intersection is out of bound\n",
    "    else:\n",
    "        # x1, x2 ni shalgaj baigaa polygony tal\n",
    "        if intersecting_x in [x1,x2] :\n",
    "            \n",
    "            return True\n",
    "        return False"
   ]
  },
  {
   "cell_type": "code",
   "execution_count": 130,
   "id": "496e5619",
   "metadata": {},
   "outputs": [],
   "source": [
    "def find_max_x(points_array):\n",
    "    x = points_array[0][0]\n",
    "    max_x = x\n",
    "    for point in points_array:\n",
    "        x = point[0]\n",
    "        if max_x < x:\n",
    "            max_x = x\n",
    "    return max_x"
   ]
  },
  {
   "cell_type": "code",
   "execution_count": 135,
   "id": "b1e49461",
   "metadata": {},
   "outputs": [],
   "source": [
    "def solving_question_2(points_array, checking_point):\n",
    "    if solving_question_1(points_array) == False:\n",
    "        lines = []\n",
    "        for idx, point in enumerate(points_array):\n",
    "            next_idx = idx + 1\n",
    "            if next_idx == len(points_array):\n",
    "                next_point = points_array[0]\n",
    "            else:\n",
    "                next_point = points_array[next_idx]\n",
    "            lines+= [[ point, next_point ]]\n",
    "        \n",
    "        side = ''\n",
    "        max_x = find_max_x(points_array)\n",
    "        line_to_check = [checking_point, [max_x, checking_point[1]]]\n",
    "        \n",
    "        intersect_cnt = 0\n",
    "        print('start')\n",
    "        for line in lines:\n",
    "            print(line)\n",
    "            x1, y1, x2, y2 = line[0][0], line[0][1], line[1][0], line[1][1]\n",
    "            x3, y3, x4, y4 = line_to_check[0][0], line_to_check[0][1], line_to_check[1][0], line_to_check[1][1]\n",
    "            if is_two_lines_intersected(x1,y1,x2,y2,x3,y3,x4,y4):\n",
    "                print('---')\n",
    "                if is_two_lines_intersected_on_point(x1,y1,x2,y2,x3,y3,x4,y4):\n",
    "                    intersect_cnt += 0.5\n",
    "                else:\n",
    "                    intersect_cnt += 1\n",
    "        if intersect_cnt % 2 == 1:\n",
    "            print(intersect_cnt)\n",
    "            return 'point inside polygon'\n",
    "        else:\n",
    "            print(intersect_cnt)\n",
    "            return 'point outside polygon'\n",
    "    else:\n",
    "        return 'zuw polygon bish bna'"
   ]
  },
  {
   "cell_type": "code",
   "execution_count": 136,
   "id": "54f51df6",
   "metadata": {
    "scrolled": true
   },
   "outputs": [
    {
     "name": "stdout",
     "output_type": "stream",
     "text": [
      "me 3.0 -1.0 -3.0\n",
      "me 1.0 -2.0 -0.5\n",
      "me -4.0 -3.0 1.3333333333333333\n",
      "me 0.5 -1.5 -0.3333333333333333\n",
      "me 4.0 1.0 4.0\n",
      "me 3.5 1.5 2.3333333333333335\n",
      "me -7.0 -2.0 3.5\n",
      "me -2.5 -0.5 5.0\n",
      "me -0.5 0.5 -1.0\n",
      "start\n",
      "[[2, 1], [1, 3]]\n",
      "me -4.0 -2.0 2.0\n",
      "---\n",
      "2 1 1 3\n",
      "[[1, 3], [3, 5]]\n",
      "me -1.0 1.0 -1.0\n",
      "[[3, 5], [2, 6]]\n",
      "me -7.0 -1.0 7.0\n",
      "[[2, 6], [5, 6]]\n",
      "[[5, 6], [3, 4]]\n",
      "me 0.0 1.0 0.0\n",
      "[[3, 4], [5, 3]]\n",
      "me -4.5 -0.5 9.0\n",
      "[[5, 3], [2, 1]]\n",
      "me 1.333333333333333 0.6666666666666666 1.9999999999999996\n",
      "0.5\n"
     ]
    },
    {
     "data": {
      "text/plain": [
       "'point outside polygon'"
      ]
     },
     "execution_count": 136,
     "metadata": {},
     "output_type": "execute_result"
    }
   ],
   "source": [
    "solving_question_2(test_data, [1,1])"
   ]
  },
  {
   "cell_type": "code",
   "execution_count": 109,
   "id": "94cb5105",
   "metadata": {},
   "outputs": [
    {
     "name": "stdout",
     "output_type": "stream",
     "text": [
      "1.0\n"
     ]
    },
    {
     "data": {
      "text/plain": [
       "'point inside polygon'"
      ]
     },
     "execution_count": 109,
     "metadata": {},
     "output_type": "execute_result"
    }
   ],
   "source": [
    "solving_question_2(test_data, [3,3])"
   ]
  },
  {
   "cell_type": "code",
   "execution_count": 110,
   "id": "5c1638d6",
   "metadata": {
    "scrolled": true
   },
   "outputs": [
    {
     "name": "stdout",
     "output_type": "stream",
     "text": [
      "2.0\n"
     ]
    },
    {
     "data": {
      "text/plain": [
       "'point outside polygon'"
      ]
     },
     "execution_count": 110,
     "metadata": {},
     "output_type": "execute_result"
    }
   ],
   "source": [
    "solving_question_2(test_data, [0,3])"
   ]
  },
  {
   "cell_type": "code",
   "execution_count": 72,
   "id": "3537e734",
   "metadata": {},
   "outputs": [],
   "source": [
    "a= 2\n",
    "b= a\n",
    "b = b+ 5"
   ]
  },
  {
   "cell_type": "code",
   "execution_count": 106,
   "id": "8b9df6ec",
   "metadata": {},
   "outputs": [
    {
     "data": {
      "text/plain": [
       "True"
      ]
     },
     "execution_count": 106,
     "metadata": {},
     "output_type": "execute_result"
    }
   ],
   "source": [
    "0.5+0.5+4 % 2 == 1"
   ]
  },
  {
   "cell_type": "code",
   "execution_count": null,
   "id": "ed3b565b",
   "metadata": {},
   "outputs": [],
   "source": [
    "#minii bodson buruu baijee"
   ]
  }
 ],
 "metadata": {
  "kernelspec": {
   "display_name": "Python 3",
   "language": "python",
   "name": "python3"
  },
  "language_info": {
   "codemirror_mode": {
    "name": "ipython",
    "version": 3
   },
   "file_extension": ".py",
   "mimetype": "text/x-python",
   "name": "python",
   "nbconvert_exporter": "python",
   "pygments_lexer": "ipython3",
   "version": "3.8.8"
  }
 },
 "nbformat": 4,
 "nbformat_minor": 5
}
